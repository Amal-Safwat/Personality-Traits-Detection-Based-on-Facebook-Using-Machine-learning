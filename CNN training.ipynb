{
 "cells": [
  {
   "cell_type": "code",
   "execution_count": 1,
   "id": "b258f7c2",
   "metadata": {},
   "outputs": [],
   "source": [
    "import numpy as np\n",
    "import cv2\n",
    "from tensorflow.keras.models import model_from_json"
   ]
  },
  {
   "cell_type": "code",
   "execution_count": 2,
   "id": "25916287",
   "metadata": {},
   "outputs": [],
   "source": [
    "model_file = 'model_bkup.json'\n",
    "model_weights = 'model_weights_bkup.h5'\n",
    "with open(model_file, \"r\") as json_file:\n",
    "    loaded_model_file = json_file.read()\n",
    "    model = model_from_json(loaded_model_file)\n",
    "    model.load_weights(model_weights)"
   ]
  },
  {
   "cell_type": "code",
   "execution_count": 3,
   "id": "ae794703",
   "metadata": {},
   "outputs": [],
   "source": [
    "#https://github.com/Itseez/opencv/blob/master/data/haarcascades/haarcascade_frontalface_default.xml\n",
    "face_cascade = cv2.CascadeClassifier('haarcascade_frontalface_default.xml')"
   ]
  },
  {
   "cell_type": "code",
   "execution_count": 4,
   "id": "4c04630f",
   "metadata": {},
   "outputs": [
    {
     "name": "stdout",
     "output_type": "stream",
     "text": [
      "Happy\n"
     ]
    }
   ],
   "source": [
    "img = cv2.imread('happy.jfif')\n",
    "gray = cv2.cvtColor(img, cv2.COLOR_BGR2GRAY)\n",
    "faces = face_cascade.detectMultiScale(gray, 1.3, 5)\n",
    "\n",
    "for (x,y,w,h) in faces:\n",
    "    cv2.rectangle(img,(x,y),(x+w,y+h),(255,0,0),2)\n",
    "    roi_gray = gray[y:y+h, x:x+w]\n",
    "    roi = cv2.resize(roi_gray, (48,48))\n",
    "    roi_color = img[y:y+h, x:x+w]\n",
    "    pred = model.predict(roi[np.newaxis, :, :, np.newaxis])\n",
    "    text_idx=np.argmax(pred)\n",
    "    text_list = ['Angry', 'Disgust', 'Fear', 'Happy', 'Neutral', 'Sad', 'Surprise']\n",
    "    if text_idx == 0:\n",
    "        text= text_list[0]\n",
    "    elif text_idx == 1:\n",
    "        text= text_list[1]\n",
    "    elif text_idx == 2:\n",
    "        text= text_list[2]\n",
    "    elif text_idx == 3:\n",
    "        text= text_list[3]\n",
    "    elif text_idx == 4:\n",
    "        text= text_list[4]\n",
    "    elif text_idx == 5:\n",
    "        text= text_list[5]\n",
    "    elif text_idx == 6:\n",
    "        text= text_list[6]\n",
    "   \n",
    "print(text)\n",
    "cv2.imshow('img',img)\n",
    "cv2.waitKey(0)\n",
    "cv2.destroyAllWindows()"
   ]
  }
 ],
 "metadata": {
  "kernelspec": {
   "display_name": "Python 3",
   "language": "python",
   "name": "python3"
  },
  "language_info": {
   "codemirror_mode": {
    "name": "ipython",
    "version": 3
   },
   "file_extension": ".py",
   "mimetype": "text/x-python",
   "name": "python",
   "nbconvert_exporter": "python",
   "pygments_lexer": "ipython3",
   "version": "3.8.8"
  }
 },
 "nbformat": 4,
 "nbformat_minor": 5
}
