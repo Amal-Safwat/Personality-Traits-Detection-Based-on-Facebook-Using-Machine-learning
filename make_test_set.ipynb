{
 "cells": [
  {
   "cell_type": "code",
   "execution_count": 1,
   "id": "a7cb12e4",
   "metadata": {},
   "outputs": [],
   "source": [
    "import os\n",
    "import collections\n",
    "import pandas as pd\n",
    "import csv\n",
    "import re\n",
    "\n",
    "\n",
    "DATA_DIR = \"\"\n",
    "MBTI_CLEAN_CSV_PATH = os.path.join(DATA_DIR, \"mbti_clean.csv\")\n",
    "DIMENSIONS = (\"IE\", \"NS\", \"TF\", \"PJ\")\n",
    "\n",
    "\n",
    "df = pd.read_csv(MBTI_CLEAN_CSV_PATH)\n",
    "\n",
    "for dimension in DIMENSIONS:\n",
    "    letter_1, letter_2 = dimension\n",
    "    for letter in [letter_1, letter_2]:\n",
    "        posts = []\n",
    "        for index, row in df.iterrows():\n",
    "            if letter in row[\"type\"]:\n",
    "                hundred_posts = row[\"posts\"].split(\"|||\")\n",
    "                for post in hundred_posts:\n",
    "                    if (\n",
    "                        (\"http\" in post)\n",
    "                        or (post == \"\")\n",
    "                        or (post == None)\n",
    "                        or (not re.search(\"[a-zA-Z]\", post))\n",
    "                    ):  # ignore deformed posts\n",
    "                        continue\n",
    "                    posts.append(post)\n",
    "\n",
    "        test_csv_path = os.path.join(DATA_DIR, f\"test_{letter}.csv\")\n",
    "        with open(test_csv_path, \"w\", encoding=\"utf-8\") as f:\n",
    "            writer = csv.writer(f)\n",
    "            for post in posts:\n",
    "                writer.writerow([post])\n"
   ]
  }
 ],
 "metadata": {
  "kernelspec": {
   "display_name": "Python 3",
   "language": "python",
   "name": "python3"
  },
  "language_info": {
   "codemirror_mode": {
    "name": "ipython",
    "version": 3
   },
   "file_extension": ".py",
   "mimetype": "text/x-python",
   "name": "python",
   "nbconvert_exporter": "python",
   "pygments_lexer": "ipython3",
   "version": "3.8.8"
  }
 },
 "nbformat": 4,
 "nbformat_minor": 5
}
