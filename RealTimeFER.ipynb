{
 "cells": [
  {
   "cell_type": "code",
   "execution_count": 9,
   "metadata": {},
   "outputs": [],
   "source": [
    "import numpy as np\n",
    "import cv2\n",
    "from tensorflow.keras.models import model_from_json"
   ]
  },
  {
   "cell_type": "code",
   "execution_count": 10,
   "metadata": {},
   "outputs": [],
   "source": [
    "model_file = 'model_bkup.json'\n",
    "model_weights = 'model_weights_bkup.h5'\n",
    "with open(model_file, \"r\") as json_file:\n",
    "    loaded_model_file = json_file.read()\n",
    "    model = model_from_json(loaded_model_file)\n",
    "    model.load_weights(model_weights)"
   ]
  },
  {
   "cell_type": "code",
   "execution_count": 11,
   "metadata": {},
   "outputs": [],
   "source": [
    "#https://github.com/Itseez/opencv/blob/master/data/haarcascades/haarcascade_frontalface_default.xml\n",
    "face_cascade = cv2.CascadeClassifier('haarcascade_frontalface_default.xml')"
   ]
  },
  {
   "cell_type": "code",
   "execution_count": 12,
   "metadata": {},
   "outputs": [],
   "source": [
    "cap = cv2.VideoCapture(0)\n",
    "import copy\n",
    "\n",
    "while True:\n",
    "    ret, frame = cap.read()\n",
    "    img = copy.deepcopy(frame)\n",
    "    gray = cv2.cvtColor(img, cv2.COLOR_BGR2GRAY)\n",
    "    faces = face_cascade.detectMultiScale(gray, 1.3, 5)\n",
    "    for (x,y,w,h) in faces:\n",
    "        fc = gray[y:y+h, x:x+w]\n",
    "        \n",
    "        roi = cv2.resize(fc, (48,48))\n",
    "        pred = model.predict(roi[np.newaxis, :, :, np.newaxis])\n",
    "        text_idx=np.argmax(pred)\n",
    "        text_list = ['Angry', 'Disgust', 'Fear', 'Happy', 'Neutral', 'Sad', 'Surprise']\n",
    "        if text_idx == 0:\n",
    "            text= text_list[0]\n",
    "        if text_idx == 1:\n",
    "            text= text_list[1]\n",
    "        elif text_idx == 2:\n",
    "            text= text_list[2]\n",
    "        elif text_idx == 3:\n",
    "            text= text_list[3]\n",
    "        elif text_idx == 4:\n",
    "            text= text_list[4]\n",
    "        elif text_idx == 5:\n",
    "            text= text_list[5]\n",
    "        elif text_idx == 6:\n",
    "            text= text_list[6]\n",
    "        cv2.putText(img, text, (x, y-5),\n",
    "           cv2.FONT_HERSHEY_SIMPLEX, 0.45, (255, 0, 255), 2)\n",
    "        img = cv2.rectangle(img, (x,y), (x+w, y+h), (0,0,255), 2)\n",
    "            \n",
    "    \n",
    "    cv2.imshow(\"frame\", img)\n",
    "    key = cv2.waitKey(1) & 0xFF\n",
    "    if key== ord('q'):\n",
    "        break\n",
    "    \n",
    "cap.release()\n",
    "cv2.destroyAllWindows()"
   ]
  }
 ],
 "metadata": {
  "kernelspec": {
   "display_name": "Python 3",
   "language": "python",
   "name": "python3"
  },
  "language_info": {
   "codemirror_mode": {
    "name": "ipython",
    "version": 3
   },
   "file_extension": ".py",
   "mimetype": "text/x-python",
   "name": "python",
   "nbconvert_exporter": "python",
   "pygments_lexer": "ipython3",
   "version": "3.8.5"
  }
 },
 "nbformat": 4,
 "nbformat_minor": 5
}
